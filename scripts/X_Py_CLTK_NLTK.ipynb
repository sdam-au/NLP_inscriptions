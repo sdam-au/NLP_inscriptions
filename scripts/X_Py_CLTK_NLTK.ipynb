{
 "cells": [
  {
   "cell_type": "markdown",
   "metadata": {},
   "source": [
    "# Lemmatization of Latin inscriptions with CLTK"
   ]
  },
  {
   "cell_type": "markdown",
   "metadata": {},
   "source": [
    "## Install CLTK"
   ]
  },
  {
   "cell_type": "code",
   "execution_count": 1,
   "metadata": {},
   "outputs": [
    {
     "name": "stdout",
     "output_type": "stream",
     "text": [
      "Collecting pip==9.0.3\n",
      "  Using cached https://files.pythonhosted.org/packages/ac/95/a05b56bb975efa78d3557efa36acaf9cf5d2fd0ee0062060493687432e03/pip-9.0.3-py2.py3-none-any.whl\n",
      "Installing collected packages: pip\n",
      "  Found existing installation: pip 9.0.3\n",
      "    Uninstalling pip-9.0.3:\n",
      "      Successfully uninstalled pip-9.0.3\n",
      "Successfully installed pip-9.0.3\n",
      "\u001b[33mYou are using pip version 9.0.3, however version 21.1.3 is available.\n",
      "You should consider upgrading via the 'pip install --upgrade pip' command.\u001b[0m\n",
      "Requirement already satisfied: fandogh-cli in /opt/conda/lib/python3.7/site-packages\n",
      "Requirement already satisfied: pyyaml>=3.13se in /opt/conda/lib/python3.7/site-packages (from fandogh-cli)\n",
      "Requirement already satisfied: retrying in /opt/conda/lib/python3.7/site-packages (from fandogh-cli)\n",
      "Requirement already satisfied: requests[security] in /opt/conda/lib/python3.7/site-packages (from fandogh-cli)\n",
      "Requirement already satisfied: websocket-client in /opt/conda/lib/python3.7/site-packages (from fandogh-cli)\n",
      "Requirement already satisfied: click>=7.0 in /opt/conda/lib/python3.7/site-packages (from fandogh-cli)\n",
      "Requirement already satisfied: pytz in /opt/conda/lib/python3.7/site-packages (from fandogh-cli)\n",
      "Requirement already satisfied: requests-toolbelt in /opt/conda/lib/python3.7/site-packages (from fandogh-cli)\n",
      "Requirement already satisfied: pyOpenSSL in /opt/conda/lib/python3.7/site-packages (from fandogh-cli)\n",
      "Requirement already satisfied: tzlocal in /opt/conda/lib/python3.7/site-packages (from fandogh-cli)\n",
      "Requirement already satisfied: beautifultable==0.8.0 in /opt/conda/lib/python3.7/site-packages (from fandogh-cli)\n",
      "Requirement already satisfied: six>=1.7.0 in /opt/conda/lib/python3.7/site-packages (from retrying->fandogh-cli)\n",
      "Requirement already satisfied: chardet<4,>=3.0.2 in /opt/conda/lib/python3.7/site-packages (from requests[security]->fandogh-cli)\n",
      "Requirement already satisfied: certifi>=2017.4.17 in /opt/conda/lib/python3.7/site-packages (from requests[security]->fandogh-cli)\n",
      "Requirement already satisfied: idna<3,>=2.5 in /opt/conda/lib/python3.7/site-packages (from requests[security]->fandogh-cli)\n",
      "Requirement already satisfied: urllib3!=1.25.0,!=1.25.1,<1.26,>=1.21.1 in /opt/conda/lib/python3.7/site-packages (from requests[security]->fandogh-cli)\n",
      "Requirement already satisfied: cryptography>=1.3.4; extra == \"security\" in /opt/conda/lib/python3.7/site-packages (from requests[security]->fandogh-cli)\n",
      "Requirement already satisfied: cffi!=1.11.3,>=1.8 in /opt/conda/lib/python3.7/site-packages (from cryptography>=1.3.4; extra == \"security\"->requests[security]->fandogh-cli)\n",
      "Requirement already satisfied: pycparser in /opt/conda/lib/python3.7/site-packages (from cffi!=1.11.3,>=1.8->cryptography>=1.3.4; extra == \"security\"->requests[security]->fandogh-cli)\n"
     ]
    }
   ],
   "source": [
    "# do via a commandline, else it willf fail; https://github.com/fandoghpaas/fandogh-cli/issues/207\n",
    "\n",
    "!pip install --upgrade --force-reinstall pip==9.0.3\n",
    "!pip install fandogh-cli --disable-pip-version-check\n",
    "#!pip install --upgrade setuptools"
   ]
  },
  {
   "cell_type": "code",
   "execution_count": 3,
   "metadata": {},
   "outputs": [
    {
     "name": "stdout",
     "output_type": "stream",
     "text": [
      "Requirement already satisfied: cltk in /opt/conda/lib/python3.7/site-packages\n",
      "Requirement already satisfied: fasttext<0.10.0,>=0.9.1 in /opt/conda/lib/python3.7/site-packages (from cltk)\n",
      "Requirement already satisfied: tqdm<5.0.0,>=4.41.1 in /opt/conda/lib/python3.7/site-packages (from cltk)\n",
      "Requirement already satisfied: scikit-learn<0.25.0,>=0.24.2 in /opt/conda/lib/python3.7/site-packages (from cltk)\n",
      "Requirement already satisfied: requests<3.0.0,>=2.22.0 in /opt/conda/lib/python3.7/site-packages (from cltk)\n",
      "Requirement already satisfied: stringcase<2.0,>=1.2 in /opt/conda/lib/python3.7/site-packages (from cltk)\n",
      "Requirement already satisfied: spacy<3.0.0,>=2.3.5 in /opt/conda/lib/python3.7/site-packages (from cltk)\n",
      "Requirement already satisfied: python-Levenshtein<0.13.0,>=0.12.0 in /opt/conda/lib/python3.7/site-packages (from cltk)\n",
      "Requirement already satisfied: stanza==1.1.1 in /opt/conda/lib/python3.7/site-packages (from cltk)\n",
      "Requirement already satisfied: gitpython<4.0,>=3.0 in /opt/conda/lib/python3.7/site-packages (from cltk)\n",
      "Requirement already satisfied: PyYAML<6.0.0,>=5.4.1 in /opt/conda/lib/python3.7/site-packages (from cltk)\n",
      "Requirement already satisfied: gensim<4.0.0,>=3.8.1 in /opt/conda/lib/python3.7/site-packages (from cltk)\n",
      "Requirement already satisfied: nltk<4.0,>=3.5 in /opt/conda/lib/python3.7/site-packages (from cltk)\n",
      "Requirement already satisfied: greek-accentuation<2.0.0,>=1.2.0 in /opt/conda/lib/python3.7/site-packages (from cltk)\n",
      "Requirement already satisfied: boltons<21.0.0,>=20.0.0 in /opt/conda/lib/python3.7/site-packages (from cltk)\n",
      "Requirement already satisfied: setuptools>=0.7.0 in /opt/conda/lib/python3.7/site-packages (from fasttext<0.10.0,>=0.9.1->cltk)\n",
      "Requirement already satisfied: pybind11>=2.2 in /opt/conda/lib/python3.7/site-packages (from fasttext<0.10.0,>=0.9.1->cltk)\n",
      "Requirement already satisfied: numpy in /opt/conda/lib/python3.7/site-packages (from fasttext<0.10.0,>=0.9.1->cltk)\n",
      "Requirement already satisfied: threadpoolctl>=2.0.0 in /opt/conda/lib/python3.7/site-packages (from scikit-learn<0.25.0,>=0.24.2->cltk)\n",
      "Requirement already satisfied: scipy>=0.19.1 in /opt/conda/lib/python3.7/site-packages (from scikit-learn<0.25.0,>=0.24.2->cltk)\n",
      "Requirement already satisfied: joblib>=0.11 in /opt/conda/lib/python3.7/site-packages (from scikit-learn<0.25.0,>=0.24.2->cltk)\n",
      "Requirement already satisfied: urllib3!=1.25.0,!=1.25.1,<1.26,>=1.21.1 in /opt/conda/lib/python3.7/site-packages (from requests<3.0.0,>=2.22.0->cltk)\n",
      "Requirement already satisfied: chardet<4,>=3.0.2 in /opt/conda/lib/python3.7/site-packages (from requests<3.0.0,>=2.22.0->cltk)\n",
      "Requirement already satisfied: idna<3,>=2.5 in /opt/conda/lib/python3.7/site-packages (from requests<3.0.0,>=2.22.0->cltk)\n",
      "Requirement already satisfied: certifi>=2017.4.17 in /opt/conda/lib/python3.7/site-packages (from requests<3.0.0,>=2.22.0->cltk)\n",
      "Requirement already satisfied: preshed<3.1.0,>=3.0.2 in /opt/conda/lib/python3.7/site-packages (from spacy<3.0.0,>=2.3.5->cltk)\n",
      "Requirement already satisfied: cymem<2.1.0,>=2.0.2 in /opt/conda/lib/python3.7/site-packages (from spacy<3.0.0,>=2.3.5->cltk)\n",
      "Requirement already satisfied: srsly<1.1.0,>=1.0.2 in /opt/conda/lib/python3.7/site-packages (from spacy<3.0.0,>=2.3.5->cltk)\n",
      "Requirement already satisfied: catalogue<1.1.0,>=0.0.7 in /opt/conda/lib/python3.7/site-packages (from spacy<3.0.0,>=2.3.5->cltk)\n",
      "Requirement already satisfied: thinc<7.5.0,>=7.4.1 in /opt/conda/lib/python3.7/site-packages (from spacy<3.0.0,>=2.3.5->cltk)\n",
      "Requirement already satisfied: murmurhash<1.1.0,>=0.28.0 in /opt/conda/lib/python3.7/site-packages (from spacy<3.0.0,>=2.3.5->cltk)\n",
      "Requirement already satisfied: wasabi<1.1.0,>=0.4.0 in /opt/conda/lib/python3.7/site-packages (from spacy<3.0.0,>=2.3.5->cltk)\n",
      "Requirement already satisfied: plac<1.2.0,>=0.9.6 in /opt/conda/lib/python3.7/site-packages (from spacy<3.0.0,>=2.3.5->cltk)\n",
      "Requirement already satisfied: blis<0.8.0,>=0.4.0 in /opt/conda/lib/python3.7/site-packages (from spacy<3.0.0,>=2.3.5->cltk)\n",
      "Requirement already satisfied: protobuf in /opt/conda/lib/python3.7/site-packages (from stanza==1.1.1->cltk)\n",
      "Requirement already satisfied: torch>=1.3.0 in /opt/conda/lib/python3.7/site-packages (from stanza==1.1.1->cltk)\n",
      "Requirement already satisfied: gitdb<5,>=4.0.1 in /opt/conda/lib/python3.7/site-packages (from gitpython<4.0,>=3.0->cltk)\n",
      "Requirement already satisfied: six>=1.5.0 in /opt/conda/lib/python3.7/site-packages (from gensim<4.0.0,>=3.8.1->cltk)\n",
      "Requirement already satisfied: smart-open>=1.8.1 in /opt/conda/lib/python3.7/site-packages (from gensim<4.0.0,>=3.8.1->cltk)\n",
      "Requirement already satisfied: regex in /opt/conda/lib/python3.7/site-packages (from nltk<4.0,>=3.5->cltk)\n",
      "Requirement already satisfied: click in /opt/conda/lib/python3.7/site-packages (from nltk<4.0,>=3.5->cltk)\n",
      "Requirement already satisfied: importlib-metadata>=0.20; python_version < \"3.8\" in /opt/conda/lib/python3.7/site-packages (from catalogue<1.1.0,>=0.0.7->spacy<3.0.0,>=2.3.5->cltk)\n",
      "Requirement already satisfied: typing-extensions in /opt/conda/lib/python3.7/site-packages (from torch>=1.3.0->stanza==1.1.1->cltk)\n",
      "Requirement already satisfied: smmap<4,>=3.0.1 in /opt/conda/lib/python3.7/site-packages (from gitdb<5,>=4.0.1->gitpython<4.0,>=3.0->cltk)\n",
      "Requirement already satisfied: zipp>=0.5 in /opt/conda/lib/python3.7/site-packages (from importlib-metadata>=0.20; python_version < \"3.8\"->catalogue<1.1.0,>=0.0.7->spacy<3.0.0,>=2.3.5->cltk)\n",
      "\u001b[33mYou are using pip version 9.0.3, however version 21.1.3 is available.\n",
      "You should consider upgrading via the 'pip install --upgrade pip' command.\u001b[0m\n"
     ]
    }
   ],
   "source": [
    "!pip install cltk"
   ]
  },
  {
   "cell_type": "code",
   "execution_count": 5,
   "metadata": {},
   "outputs": [
    {
     "name": "stdout",
     "output_type": "stream",
     "text": [
      "Collecting pip\n",
      "  Using cached https://files.pythonhosted.org/packages/47/ca/f0d790b6e18b3a6f3bd5e80c2ee4edbb5807286c21cdd0862ca933f751dd/pip-21.1.3-py3-none-any.whl\n",
      "Installing collected packages: pip\n",
      "  Found existing installation: pip 9.0.3\n",
      "    Uninstalling pip-9.0.3:\n",
      "      Successfully uninstalled pip-9.0.3\n",
      "Successfully installed pip-21.1.3\n",
      "Collecting sddk\n",
      "  Using cached sddk-3.0-py3-none-any.whl (15 kB)\n",
      "Requirement already satisfied: numpy>=1 in /opt/conda/lib/python3.7/site-packages (from sddk) (1.19.1)\n",
      "Collecting matplotlib>=3.3.4\n",
      "  Using cached matplotlib-3.4.2-cp37-cp37m-manylinux1_x86_64.whl (10.3 MB)\n",
      "Collecting shapely\n",
      "  Using cached Shapely-1.7.1-cp37-cp37m-manylinux1_x86_64.whl (1.0 MB)\n",
      "Requirement already satisfied: pandas>=1 in /opt/conda/lib/python3.7/site-packages (from sddk) (1.1.1)\n",
      "Requirement already satisfied: requests>=2 in /opt/conda/lib/python3.7/site-packages (from sddk) (2.24.0)\n",
      "Requirement already satisfied: beautifulsoup4>=4 in /opt/conda/lib/python3.7/site-packages (from sddk) (4.9.1)\n",
      "Requirement already satisfied: plotly>=4 in /opt/conda/lib/python3.7/site-packages (from sddk) (4.9.0)\n",
      "Collecting kaleido>=0.2.1\n",
      "  Using cached kaleido-0.2.1-py2.py3-none-manylinux1_x86_64.whl (79.9 MB)\n",
      "Collecting pyarrow>=3\n",
      "  Using cached pyarrow-4.0.1-cp37-cp37m-manylinux2014_x86_64.whl (21.8 MB)\n",
      "Collecting geopandas\n",
      "  Using cached geopandas-0.9.0-py2.py3-none-any.whl (994 kB)\n",
      "Requirement already satisfied: soupsieve>1.2 in /opt/conda/lib/python3.7/site-packages (from beautifulsoup4>=4->sddk) (2.0.1)\n",
      "Requirement already satisfied: cycler>=0.10 in /opt/conda/lib/python3.7/site-packages (from matplotlib>=3.3.4->sddk) (0.10.0)\n",
      "Requirement already satisfied: pillow>=6.2.0 in /opt/conda/lib/python3.7/site-packages (from matplotlib>=3.3.4->sddk) (7.2.0)\n",
      "Requirement already satisfied: pyparsing>=2.2.1 in /opt/conda/lib/python3.7/site-packages (from matplotlib>=3.3.4->sddk) (2.4.7)\n",
      "Requirement already satisfied: python-dateutil>=2.7 in /opt/conda/lib/python3.7/site-packages (from matplotlib>=3.3.4->sddk) (2.8.1)\n",
      "Requirement already satisfied: kiwisolver>=1.0.1 in /opt/conda/lib/python3.7/site-packages (from matplotlib>=3.3.4->sddk) (1.2.0)\n",
      "Requirement already satisfied: six in /opt/conda/lib/python3.7/site-packages (from cycler>=0.10->matplotlib>=3.3.4->sddk) (1.15.0)\n",
      "Requirement already satisfied: pytz>=2017.2 in /opt/conda/lib/python3.7/site-packages (from pandas>=1->sddk) (2020.1)\n",
      "Requirement already satisfied: retrying>=1.3.3 in /opt/conda/lib/python3.7/site-packages (from plotly>=4->sddk) (1.3.3)\n",
      "Requirement already satisfied: chardet<4,>=3.0.2 in /opt/conda/lib/python3.7/site-packages (from requests>=2->sddk) (3.0.4)\n",
      "Requirement already satisfied: certifi>=2017.4.17 in /opt/conda/lib/python3.7/site-packages (from requests>=2->sddk) (2020.6.20)\n",
      "Requirement already satisfied: idna<3,>=2.5 in /opt/conda/lib/python3.7/site-packages (from requests>=2->sddk) (2.10)\n",
      "Requirement already satisfied: urllib3!=1.25.0,!=1.25.1,<1.26,>=1.21.1 in /opt/conda/lib/python3.7/site-packages (from requests>=2->sddk) (1.25.10)\n",
      "Collecting fiona>=1.8\n",
      "  Using cached Fiona-1.8.20-cp37-cp37m-manylinux1_x86_64.whl (15.4 MB)\n",
      "Collecting pyproj>=2.2.0\n",
      "  Using cached pyproj-3.1.0-cp37-cp37m-manylinux2010_x86_64.whl (6.6 MB)\n",
      "Requirement already satisfied: setuptools in /opt/conda/lib/python3.7/site-packages (from fiona>=1.8->geopandas->sddk) (57.4.0)\n",
      "Requirement already satisfied: attrs>=17 in /opt/conda/lib/python3.7/site-packages (from fiona>=1.8->geopandas->sddk) (20.1.0)\n",
      "Collecting click-plugins>=1.0\n",
      "  Using cached click_plugins-1.1.1-py2.py3-none-any.whl (7.5 kB)\n",
      "Collecting cligj>=0.5\n",
      "  Using cached cligj-0.7.2-py3-none-any.whl (7.1 kB)\n",
      "Collecting munch\n",
      "  Using cached munch-2.5.0-py2.py3-none-any.whl (10 kB)\n",
      "Requirement already satisfied: click>=4.0 in /opt/conda/lib/python3.7/site-packages (from fiona>=1.8->geopandas->sddk) (7.1.2)\n",
      "Installing collected packages: munch, cligj, click-plugins, shapely, pyproj, fiona, pyarrow, matplotlib, kaleido, geopandas, sddk\n",
      "  Attempting uninstall: pyarrow\n",
      "    Found existing installation: pyarrow 1.0.1\n",
      "    Uninstalling pyarrow-1.0.1:\n",
      "      Successfully uninstalled pyarrow-1.0.1\n",
      "  Attempting uninstall: matplotlib\n",
      "    Found existing installation: matplotlib 3.2.2\n",
      "    Uninstalling matplotlib-3.2.2:\n",
      "      Successfully uninstalled matplotlib-3.2.2\n",
      "Successfully installed click-plugins-1.1.1 cligj-0.7.2 fiona-1.8.20 geopandas-0.9.0 kaleido-0.2.1 matplotlib-3.4.2 munch-2.5.0 pyarrow-4.0.1 pyproj-3.1.0 sddk-3.0 shapely-1.7.1\n"
     ]
    }
   ],
   "source": [
    "!pip install --upgrade pip\n",
    "!pip install sddk"
   ]
  },
  {
   "cell_type": "code",
   "execution_count": 117,
   "metadata": {},
   "outputs": [],
   "source": [
    "import sddk\n",
    "import numpy as np\n",
    "from cltk import NLP\n",
    "import pandas as pd"
   ]
  },
  {
   "cell_type": "markdown",
   "metadata": {},
   "source": [
    "## Load data\n",
    "\n",
    " Loading EDH dataset, and subsetting random 1000 inscriptions "
   ]
  },
  {
   "cell_type": "code",
   "execution_count": 7,
   "metadata": {},
   "outputs": [
    {
     "name": "stdout",
     "output_type": "stream",
     "text": [
      "reading file located in a public folder\n"
     ]
    },
    {
     "data": {
      "text/html": [
       "<div>\n",
       "<style scoped>\n",
       "    .dataframe tbody tr th:only-of-type {\n",
       "        vertical-align: middle;\n",
       "    }\n",
       "\n",
       "    .dataframe tbody tr th {\n",
       "        vertical-align: top;\n",
       "    }\n",
       "\n",
       "    .dataframe thead th {\n",
       "        text-align: right;\n",
       "    }\n",
       "</style>\n",
       "<table border=\"1\" class=\"dataframe\">\n",
       "  <thead>\n",
       "    <tr style=\"text-align: right;\">\n",
       "      <th></th>\n",
       "      <th>responsible_individual</th>\n",
       "      <th>type_of_inscription</th>\n",
       "      <th>letter_size</th>\n",
       "      <th>not_after</th>\n",
       "      <th>literature</th>\n",
       "      <th>work_status</th>\n",
       "      <th>height</th>\n",
       "      <th>diplomatic_text</th>\n",
       "      <th>people</th>\n",
       "      <th>depth</th>\n",
       "      <th>...</th>\n",
       "      <th>clean_text_conservative</th>\n",
       "      <th>clean_text_interpretive_word</th>\n",
       "      <th>clean_text_interpretive_sentence</th>\n",
       "      <th>findspot</th>\n",
       "      <th>year_of_find</th>\n",
       "      <th>present_location</th>\n",
       "      <th>religion</th>\n",
       "      <th>geography</th>\n",
       "      <th>social_economic_legal_history</th>\n",
       "      <th>military</th>\n",
       "    </tr>\n",
       "  </thead>\n",
       "  <tbody>\n",
       "    <tr>\n",
       "      <th>0</th>\n",
       "      <td>Feraudi</td>\n",
       "      <td>epitaph</td>\n",
       "      <td>3.2-2 cm</td>\n",
       "      <td>0130</td>\n",
       "      <td>AE 1983, 0192.; M. Annecchino, Puteoli 4/5, 19...</td>\n",
       "      <td>provisional</td>\n",
       "      <td>33 cm</td>\n",
       "      <td>D M / NONIAE P F OPTATAE / ET C IVLIO ARTEMONI...</td>\n",
       "      <td>[{'name': 'Noniae P.f. Optatae', 'cognomen': '...</td>\n",
       "      <td>2.7 cm</td>\n",
       "      <td>...</td>\n",
       "      <td>D M Noniae P f Optatae et C Iulio Artemoni par...</td>\n",
       "      <td>Dis Manibus Noniae Publi filiae Optatae et Cai...</td>\n",
       "      <td>Dis Manibus Noniae Publi filiae Optatae et Cai...</td>\n",
       "      <td>NaN</td>\n",
       "      <td>NaN</td>\n",
       "      <td>NaN</td>\n",
       "      <td>NaN</td>\n",
       "      <td>NaN</td>\n",
       "      <td>NaN</td>\n",
       "      <td>NaN</td>\n",
       "    </tr>\n",
       "    <tr>\n",
       "      <th>1</th>\n",
       "      <td>Feraudi</td>\n",
       "      <td>epitaph</td>\n",
       "      <td>4 cm</td>\n",
       "      <td>0200</td>\n",
       "      <td>AE 1983, 0080. (A); A. Ferrua, RAL 36, 1981, 1...</td>\n",
       "      <td>no image</td>\n",
       "      <td>28 cm</td>\n",
       "      <td>C SEXTIVS PARIS / QVI VIXIT / ANNIS LXX</td>\n",
       "      <td>[{'nomen': 'Sextius', 'praenomen': 'C.', 'pers...</td>\n",
       "      <td>NaN</td>\n",
       "      <td>...</td>\n",
       "      <td>C Sextius Paris qui vixit annis LXX</td>\n",
       "      <td>Caius Sextius Paris qui vixit annis LXX</td>\n",
       "      <td>Caius Sextius Paris qui vixit annis LXX</td>\n",
       "      <td>Via Nomentana, S. Alessandro, Kirche</td>\n",
       "      <td>1937</td>\n",
       "      <td>NaN</td>\n",
       "      <td>NaN</td>\n",
       "      <td>NaN</td>\n",
       "      <td>NaN</td>\n",
       "      <td>NaN</td>\n",
       "    </tr>\n",
       "    <tr>\n",
       "      <th>2</th>\n",
       "      <td>Feraudi</td>\n",
       "      <td>honorific inscription</td>\n",
       "      <td>4.5-3 cm</td>\n",
       "      <td>0170</td>\n",
       "      <td>AE 1983, 0518. (B); J. González, ZPE 52, 1983,...</td>\n",
       "      <td>provisional</td>\n",
       "      <td>(37) cm</td>\n",
       "      <td>[ ]VMMIO [ ] / [ ]ISENNA[ ] / [ ] XV[ ] / [ ] / [</td>\n",
       "      <td>[{'nomen': 'Mummius+', 'gender': 'male', 'prae...</td>\n",
       "      <td>(12) cm</td>\n",
       "      <td>...</td>\n",
       "      <td>ummio isenna Xv</td>\n",
       "      <td>Publio Mummio Publi filio Galeria Sisennae Rut...</td>\n",
       "      <td>Publio Mummio Publi filio Galeria Sisennae Rut...</td>\n",
       "      <td>NaN</td>\n",
       "      <td>before 1975</td>\n",
       "      <td>Sevilla, Privatbesitz</td>\n",
       "      <td>NaN</td>\n",
       "      <td>NaN</td>\n",
       "      <td>NaN</td>\n",
       "      <td>NaN</td>\n",
       "    </tr>\n",
       "    <tr>\n",
       "      <th>3</th>\n",
       "      <td>Gräf</td>\n",
       "      <td>votive inscription</td>\n",
       "      <td>2.5 cm</td>\n",
       "      <td>0200</td>\n",
       "      <td>AE 1983, 0533. (B); A.U. Stylow, Gerión 1, 198...</td>\n",
       "      <td>checked with photo</td>\n",
       "      <td>(39) cm</td>\n",
       "      <td>[ ]AVS[ ]LLA / M PORCI NIGRI SER / DOMINAE VEN...</td>\n",
       "      <td>[{'name': '[---?]AV(?)S(?)[---]L(?)L(?)A M. Po...</td>\n",
       "      <td>18 cm</td>\n",
       "      <td>...</td>\n",
       "      <td>AVSLLA M Porci Nigri ser dominae Veneri aram p...</td>\n",
       "      <td>AVS LLA Marci Porci Nigri serva dominae Veneri...</td>\n",
       "      <td>AVS LLA Marci Porci Nigri serva dominae Veneri...</td>\n",
       "      <td>NaN</td>\n",
       "      <td>before 1979</td>\n",
       "      <td>Carcabuey, Grupo Escolar</td>\n",
       "      <td>names of pagan deities</td>\n",
       "      <td>NaN</td>\n",
       "      <td>NaN</td>\n",
       "      <td>NaN</td>\n",
       "    </tr>\n",
       "    <tr>\n",
       "      <th>4</th>\n",
       "      <td>Feraudi</td>\n",
       "      <td>epitaph</td>\n",
       "      <td>NaN</td>\n",
       "      <td>0200</td>\n",
       "      <td>AE 1983, 0078. (B); A. Ferrua, RAL 36, 1981, 1...</td>\n",
       "      <td>no image</td>\n",
       "      <td>NaN</td>\n",
       "      <td>[ ] L SVCCESSVS / [ ] L L IRENAEVS / [ ] C L T...</td>\n",
       "      <td>[{'person_id': '1', 'name': '[---]l. Successus...</td>\n",
       "      <td>NaN</td>\n",
       "      <td>...</td>\n",
       "      <td>l Successus L l Irenaeus C l Tyches unt renti f</td>\n",
       "      <td>libertus Successus Luci libertus Irenaeus Cai ...</td>\n",
       "      <td>libertus Successus Luci libertus Irenaeus Cai ...</td>\n",
       "      <td>Via Cupa (ehem. Vigna Nardi)</td>\n",
       "      <td>NaN</td>\n",
       "      <td>NaN</td>\n",
       "      <td>NaN</td>\n",
       "      <td>NaN</td>\n",
       "      <td>NaN</td>\n",
       "      <td>NaN</td>\n",
       "    </tr>\n",
       "  </tbody>\n",
       "</table>\n",
       "<p>5 rows × 74 columns</p>\n",
       "</div>"
      ],
      "text/plain": [
       "  responsible_individual    type_of_inscription letter_size not_after  \\\n",
       "0                Feraudi                epitaph    3.2-2 cm      0130   \n",
       "1                Feraudi                epitaph        4 cm      0200   \n",
       "2                Feraudi  honorific inscription    4.5-3 cm      0170   \n",
       "3                   Gräf     votive inscription      2.5 cm      0200   \n",
       "4                Feraudi                epitaph         NaN      0200   \n",
       "\n",
       "                                          literature         work_status  \\\n",
       "0  AE 1983, 0192.; M. Annecchino, Puteoli 4/5, 19...         provisional   \n",
       "1  AE 1983, 0080. (A); A. Ferrua, RAL 36, 1981, 1...            no image   \n",
       "2  AE 1983, 0518. (B); J. González, ZPE 52, 1983,...         provisional   \n",
       "3  AE 1983, 0533. (B); A.U. Stylow, Gerión 1, 198...  checked with photo   \n",
       "4  AE 1983, 0078. (B); A. Ferrua, RAL 36, 1981, 1...            no image   \n",
       "\n",
       "    height                                    diplomatic_text  \\\n",
       "0    33 cm  D M / NONIAE P F OPTATAE / ET C IVLIO ARTEMONI...   \n",
       "1    28 cm            C SEXTIVS PARIS / QVI VIXIT / ANNIS LXX   \n",
       "2  (37) cm  [ ]VMMIO [ ] / [ ]ISENNA[ ] / [ ] XV[ ] / [ ] / [   \n",
       "3  (39) cm  [ ]AVS[ ]LLA / M PORCI NIGRI SER / DOMINAE VEN...   \n",
       "4      NaN  [ ] L SVCCESSVS / [ ] L L IRENAEVS / [ ] C L T...   \n",
       "\n",
       "                                              people    depth  ...  \\\n",
       "0  [{'name': 'Noniae P.f. Optatae', 'cognomen': '...   2.7 cm  ...   \n",
       "1  [{'nomen': 'Sextius', 'praenomen': 'C.', 'pers...      NaN  ...   \n",
       "2  [{'nomen': 'Mummius+', 'gender': 'male', 'prae...  (12) cm  ...   \n",
       "3  [{'name': '[---?]AV(?)S(?)[---]L(?)L(?)A M. Po...    18 cm  ...   \n",
       "4  [{'person_id': '1', 'name': '[---]l. Successus...      NaN  ...   \n",
       "\n",
       "                             clean_text_conservative  \\\n",
       "0  D M Noniae P f Optatae et C Iulio Artemoni par...   \n",
       "1                C Sextius Paris qui vixit annis LXX   \n",
       "2                                    ummio isenna Xv   \n",
       "3  AVSLLA M Porci Nigri ser dominae Veneri aram p...   \n",
       "4    l Successus L l Irenaeus C l Tyches unt renti f   \n",
       "\n",
       "                        clean_text_interpretive_word  \\\n",
       "0  Dis Manibus Noniae Publi filiae Optatae et Cai...   \n",
       "1            Caius Sextius Paris qui vixit annis LXX   \n",
       "2  Publio Mummio Publi filio Galeria Sisennae Rut...   \n",
       "3  AVS LLA Marci Porci Nigri serva dominae Veneri...   \n",
       "4  libertus Successus Luci libertus Irenaeus Cai ...   \n",
       "\n",
       "                    clean_text_interpretive_sentence  \\\n",
       "0  Dis Manibus Noniae Publi filiae Optatae et Cai...   \n",
       "1            Caius Sextius Paris qui vixit annis LXX   \n",
       "2  Publio Mummio Publi filio Galeria Sisennae Rut...   \n",
       "3  AVS LLA Marci Porci Nigri serva dominae Veneri...   \n",
       "4  libertus Successus Luci libertus Irenaeus Cai ...   \n",
       "\n",
       "                               findspot year_of_find  \\\n",
       "0                                   NaN          NaN   \n",
       "1  Via Nomentana, S. Alessandro, Kirche         1937   \n",
       "2                                   NaN  before 1975   \n",
       "3                                   NaN  before 1979   \n",
       "4          Via Cupa (ehem. Vigna Nardi)          NaN   \n",
       "\n",
       "           present_location                religion geography  \\\n",
       "0                       NaN                     NaN       NaN   \n",
       "1                       NaN                     NaN       NaN   \n",
       "2     Sevilla, Privatbesitz                     NaN       NaN   \n",
       "3  Carcabuey, Grupo Escolar  names of pagan deities       NaN   \n",
       "4                       NaN                     NaN       NaN   \n",
       "\n",
       "  social_economic_legal_history military  \n",
       "0                           NaN      NaN  \n",
       "1                           NaN      NaN  \n",
       "2                           NaN      NaN  \n",
       "3                           NaN      NaN  \n",
       "4                           NaN      NaN  \n",
       "\n",
       "[5 rows x 74 columns]"
      ]
     },
     "execution_count": 7,
     "metadata": {},
     "output_type": "execute_result"
    }
   ],
   "source": [
    "# read edh dataset\n",
    "publicfolder = \"b6b6afdb969d378b70929e86e58ad975\"\n",
    "EDH = sddk.read_file(\"EDH_text_cleaned_2021-01-21.json\", \"df\", publicfolder)\n",
    "EDH.head(5)"
   ]
  },
  {
   "cell_type": "code",
   "execution_count": 41,
   "metadata": {},
   "outputs": [
    {
     "data": {
      "text/html": [
       "<div>\n",
       "<style scoped>\n",
       "    .dataframe tbody tr th:only-of-type {\n",
       "        vertical-align: middle;\n",
       "    }\n",
       "\n",
       "    .dataframe tbody tr th {\n",
       "        vertical-align: top;\n",
       "    }\n",
       "\n",
       "    .dataframe thead th {\n",
       "        text-align: right;\n",
       "    }\n",
       "</style>\n",
       "<table border=\"1\" class=\"dataframe\">\n",
       "  <thead>\n",
       "    <tr style=\"text-align: right;\">\n",
       "      <th></th>\n",
       "      <th>responsible_individual</th>\n",
       "      <th>type_of_inscription</th>\n",
       "      <th>letter_size</th>\n",
       "      <th>not_after</th>\n",
       "      <th>literature</th>\n",
       "      <th>work_status</th>\n",
       "      <th>height</th>\n",
       "      <th>diplomatic_text</th>\n",
       "      <th>people</th>\n",
       "      <th>depth</th>\n",
       "      <th>...</th>\n",
       "      <th>clean_text_conservative</th>\n",
       "      <th>clean_text_interpretive_word</th>\n",
       "      <th>clean_text_interpretive_sentence</th>\n",
       "      <th>findspot</th>\n",
       "      <th>year_of_find</th>\n",
       "      <th>present_location</th>\n",
       "      <th>religion</th>\n",
       "      <th>geography</th>\n",
       "      <th>social_economic_legal_history</th>\n",
       "      <th>military</th>\n",
       "    </tr>\n",
       "  </thead>\n",
       "  <tbody>\n",
       "    <tr>\n",
       "      <th>46483</th>\n",
       "      <td>Cowey</td>\n",
       "      <td>building/dedicatory inscription?</td>\n",
       "      <td>NaN</td>\n",
       "      <td>0200</td>\n",
       "      <td>AE 2001, 1283.; R.S.O. Tomlin - M.W.C. Hassall...</td>\n",
       "      <td>checked with photo</td>\n",
       "      <td>(9.7) cm</td>\n",
       "      <td>]C[ / / ]A[</td>\n",
       "      <td>{}</td>\n",
       "      <td>(4.1) cm</td>\n",
       "      <td>...</td>\n",
       "      <td>CA</td>\n",
       "      <td>C A</td>\n",
       "      <td>C A</td>\n",
       "      <td>Römisch-keltischer Tempel</td>\n",
       "      <td>before 1986</td>\n",
       "      <td>Harlow, Museum</td>\n",
       "      <td>NaN</td>\n",
       "      <td>NaN</td>\n",
       "      <td>NaN</td>\n",
       "      <td>NaN</td>\n",
       "    </tr>\n",
       "    <tr>\n",
       "      <th>48745</th>\n",
       "      <td>Feraudi</td>\n",
       "      <td>epitaph</td>\n",
       "      <td>4 cm</td>\n",
       "      <td>0270</td>\n",
       "      <td>IDR 3, 4, 111.</td>\n",
       "      <td>no image</td>\n",
       "      <td>NaN</td>\n",
       "      <td>D [ ] / VAL V[ ] / AEL [</td>\n",
       "      <td>[{'nomen': 'Valerius/a*', 'person_id': '1', 'n...</td>\n",
       "      <td>NaN</td>\n",
       "      <td>...</td>\n",
       "      <td>D Val V Ael</td>\n",
       "      <td>Dis Manibus Valerius V Aelius</td>\n",
       "      <td>Dis Manibus Valerius V Aelius</td>\n",
       "      <td>Sântămărie, ehemalige reformierte Kirche, seku...</td>\n",
       "      <td>NaN</td>\n",
       "      <td>NaN</td>\n",
       "      <td>NaN</td>\n",
       "      <td>NaN</td>\n",
       "      <td>NaN</td>\n",
       "      <td>NaN</td>\n",
       "    </tr>\n",
       "    <tr>\n",
       "      <th>19190</th>\n",
       "      <td>Scheithauer</td>\n",
       "      <td>NaN</td>\n",
       "      <td>NaN</td>\n",
       "      <td>NaN</td>\n",
       "      <td>AE 1955, 0142.</td>\n",
       "      <td>provisional</td>\n",
       "      <td>NaN</td>\n",
       "      <td>MATRI DEVM / AVG SAC / [ ] GRATTIVS MVSTIO / L...</td>\n",
       "      <td>{}</td>\n",
       "      <td>NaN</td>\n",
       "      <td>...</td>\n",
       "      <td>Matri Deum Aug sac Grattius Mustiolus aed II v...</td>\n",
       "      <td>Matri Deum Augustae sacrum Grattius Mustiolus ...</td>\n",
       "      <td>Matri Deum Augustae sacrum Grattius Mustiolus ...</td>\n",
       "      <td>NaN</td>\n",
       "      <td>NaN</td>\n",
       "      <td>NaN</td>\n",
       "      <td>NaN</td>\n",
       "      <td>NaN</td>\n",
       "      <td>NaN</td>\n",
       "      <td>NaN</td>\n",
       "    </tr>\n",
       "    <tr>\n",
       "      <th>43046</th>\n",
       "      <td>Gräf</td>\n",
       "      <td>epitaph</td>\n",
       "      <td>NaN</td>\n",
       "      <td>0200</td>\n",
       "      <td>CIL 03, 08239.; ILJug 1446.</td>\n",
       "      <td>no image</td>\n",
       "      <td>NaN</td>\n",
       "      <td>D M / NANEA PRVD / ENTIS FILIA / POSVIT CO / N...</td>\n",
       "      <td>[{'name': 'Nanea Prudentis filia', 'cognomen':...</td>\n",
       "      <td>NaN</td>\n",
       "      <td>...</td>\n",
       "      <td>D M Nanea Prudentis filia posuit coniugi suo c...</td>\n",
       "      <td>Dis Manibus Nanea Prudentis filia posuit coniu...</td>\n",
       "      <td>Dis Manibus Nanea Prudentis filia posuit coniu...</td>\n",
       "      <td>Xërxë / Zrze, bei, Ura e Shenjtë / Švanjskog M...</td>\n",
       "      <td>NaN</td>\n",
       "      <td>NaN</td>\n",
       "      <td>NaN</td>\n",
       "      <td>NaN</td>\n",
       "      <td>NaN</td>\n",
       "      <td>data available</td>\n",
       "    </tr>\n",
       "    <tr>\n",
       "      <th>62151</th>\n",
       "      <td>Feraudi</td>\n",
       "      <td>epitaph</td>\n",
       "      <td>3 cm</td>\n",
       "      <td>0400</td>\n",
       "      <td>CIL 03, 08843; Zeichnung.; E. Marin u. a., Sal...</td>\n",
       "      <td>checked with photo</td>\n",
       "      <td>(15.5) cm</td>\n",
       "      <td>]ONAR C[ ] / [ ] ALEXAND[ ] / [ ]T AN I</td>\n",
       "      <td>[{'person_id': '1', 'age: years': '1', 'nomen'...</td>\n",
       "      <td>11 cm</td>\n",
       "      <td>...</td>\n",
       "      <td>ONAR C Alexand t an I</td>\n",
       "      <td>ONAR C Alexand vixit annum I</td>\n",
       "      <td>ONAR C Alexand vixit annum I</td>\n",
       "      <td>1-279 etc. bleibend (111)</td>\n",
       "      <td>1886</td>\n",
       "      <td>Split, Arh. Muz.</td>\n",
       "      <td>NaN</td>\n",
       "      <td>NaN</td>\n",
       "      <td>NaN</td>\n",
       "      <td>NaN</td>\n",
       "    </tr>\n",
       "    <tr>\n",
       "      <th>...</th>\n",
       "      <td>...</td>\n",
       "      <td>...</td>\n",
       "      <td>...</td>\n",
       "      <td>...</td>\n",
       "      <td>...</td>\n",
       "      <td>...</td>\n",
       "      <td>...</td>\n",
       "      <td>...</td>\n",
       "      <td>...</td>\n",
       "      <td>...</td>\n",
       "      <td>...</td>\n",
       "      <td>...</td>\n",
       "      <td>...</td>\n",
       "      <td>...</td>\n",
       "      <td>...</td>\n",
       "      <td>...</td>\n",
       "      <td>...</td>\n",
       "      <td>...</td>\n",
       "      <td>...</td>\n",
       "      <td>...</td>\n",
       "      <td>...</td>\n",
       "    </tr>\n",
       "    <tr>\n",
       "      <th>24124</th>\n",
       "      <td>Gräf</td>\n",
       "      <td>epitaph</td>\n",
       "      <td>NaN</td>\n",
       "      <td>0100</td>\n",
       "      <td>CIL 02 (2. Aufl.) 14, 00106.; CIL 02, 03658.</td>\n",
       "      <td>no image</td>\n",
       "      <td>NaN</td>\n",
       "      <td>L FABIVS PRO / CVLVS AN LX / VITORIA OMVL / LI...</td>\n",
       "      <td>[{'praenomen': 'L.', 'name': 'L. Fabius Procul...</td>\n",
       "      <td>NaN</td>\n",
       "      <td>...</td>\n",
       "      <td>L Fabius Proculus an LX Vitoria Omullina an XX...</td>\n",
       "      <td>Lucius Fabius Proculus annorum LX Vitoria Omul...</td>\n",
       "      <td>Lucius Fabius Proculus annorum LX Vitoria Omul...</td>\n",
       "      <td>NaN</td>\n",
       "      <td>NaN</td>\n",
       "      <td>lost</td>\n",
       "      <td>NaN</td>\n",
       "      <td>NaN</td>\n",
       "      <td>NaN</td>\n",
       "      <td>NaN</td>\n",
       "    </tr>\n",
       "    <tr>\n",
       "      <th>31987</th>\n",
       "      <td>Scheithauer</td>\n",
       "      <td>NaN</td>\n",
       "      <td>NaN</td>\n",
       "      <td>NaN</td>\n",
       "      <td>AE 1901, 0002.</td>\n",
       "      <td>provisional</td>\n",
       "      <td>NaN</td>\n",
       "      <td>IMP CAESARI L SEPTIMIO SEVE / RO PIO RT AVG ET...</td>\n",
       "      <td>{}</td>\n",
       "      <td>NaN</td>\n",
       "      <td>...</td>\n",
       "      <td>Imp Caesari L Septimio Severo Pio rt Aug et Im...</td>\n",
       "      <td>Imperatori Caesari Lucio Septimio Severo Pio P...</td>\n",
       "      <td>Imperatori Caesari Lucio Septimio Severo Pio P...</td>\n",
       "      <td>NaN</td>\n",
       "      <td>NaN</td>\n",
       "      <td>NaN</td>\n",
       "      <td>NaN</td>\n",
       "      <td>NaN</td>\n",
       "      <td>NaN</td>\n",
       "      <td>NaN</td>\n",
       "    </tr>\n",
       "    <tr>\n",
       "      <th>63011</th>\n",
       "      <td>Feraudi</td>\n",
       "      <td>epitaph</td>\n",
       "      <td>NaN</td>\n",
       "      <td>0150</td>\n",
       "      <td>CIL 03, 02096; Zeichnung.; CIL 03, 02096 add. ...</td>\n",
       "      <td>checked with photo</td>\n",
       "      <td>NaN</td>\n",
       "      <td>P FVNDANIVS PHILOLOGVS / AVGVSTAL T F I SIB ET...</td>\n",
       "      <td>[{'cognomen': 'Philologus', 'status': 'Augusta...</td>\n",
       "      <td>NaN</td>\n",
       "      <td>...</td>\n",
       "      <td>P Fundanius Philologus Augustal t f i sib et F...</td>\n",
       "      <td>Publius Fundanius Philologus Augustalis titulu...</td>\n",
       "      <td>Publius Fundanius Philologus Augustalis titulu...</td>\n",
       "      <td>1-279 etc. bleibend (111)</td>\n",
       "      <td>NaN</td>\n",
       "      <td>NaN</td>\n",
       "      <td>NaN</td>\n",
       "      <td>NaN</td>\n",
       "      <td>data available</td>\n",
       "      <td>NaN</td>\n",
       "    </tr>\n",
       "    <tr>\n",
       "      <th>40071</th>\n",
       "      <td>Garcia</td>\n",
       "      <td>votive inscription</td>\n",
       "      <td>NaN</td>\n",
       "      <td>0250</td>\n",
       "      <td>ILB (2. Aufl.) 045; Zeichnung.; CIL 13, 03613.</td>\n",
       "      <td>checked with drawing</td>\n",
       "      <td>NaN</td>\n",
       "      <td>IN H D D / D I M AX[ ] / VERVS [ ] / Q VETI[ ]...</td>\n",
       "      <td>[{'name': 'Ax[ius?] Verus', 'nomen': 'Axius+?'...</td>\n",
       "      <td>NaN</td>\n",
       "      <td>...</td>\n",
       "      <td>In h d d D I M Ax Verus Q Veti et Probinus Ver...</td>\n",
       "      <td>In honorem domus divinae Deo Invicto Mithrae A...</td>\n",
       "      <td>In honorem domus divinae Deo Invicto Mithrae A...</td>\n",
       "      <td>NaN</td>\n",
       "      <td>NaN</td>\n",
       "      <td>lost</td>\n",
       "      <td>names of pagan deities</td>\n",
       "      <td>NaN</td>\n",
       "      <td>NaN</td>\n",
       "      <td>NaN</td>\n",
       "    </tr>\n",
       "    <tr>\n",
       "      <th>55058</th>\n",
       "      <td>Gräf</td>\n",
       "      <td>epitaph</td>\n",
       "      <td>6.2-6.5 cm</td>\n",
       "      <td>0300</td>\n",
       "      <td>CIL 03, 12757.; K. Patsch, AEM 16, 1893, 78, N...</td>\n",
       "      <td>checked with drawing</td>\n",
       "      <td>(21.5) cm</td>\n",
       "      <td>] / [ ] SEVE[ ] / [ ]IVGI [ ] / [ ]MO[ ] / [</td>\n",
       "      <td>[{'person_id': '1', 'nomen': '[---]', 'name': ...</td>\n",
       "      <td>24 cm</td>\n",
       "      <td>...</td>\n",
       "      <td>Seve iugi MO</td>\n",
       "      <td>Sever coniugi MO</td>\n",
       "      <td>Sever coniugi MO</td>\n",
       "      <td>Makljenovac, Crkvina, römische Befestigung, Vo...</td>\n",
       "      <td>1890</td>\n",
       "      <td>Sarajevo, Zem. Muz.</td>\n",
       "      <td>NaN</td>\n",
       "      <td>NaN</td>\n",
       "      <td>NaN</td>\n",
       "      <td>NaN</td>\n",
       "    </tr>\n",
       "  </tbody>\n",
       "</table>\n",
       "<p>1000 rows × 74 columns</p>\n",
       "</div>"
      ],
      "text/plain": [
       "      responsible_individual               type_of_inscription letter_size  \\\n",
       "46483                  Cowey  building/dedicatory inscription?         NaN   \n",
       "48745                Feraudi                           epitaph        4 cm   \n",
       "19190            Scheithauer                               NaN         NaN   \n",
       "43046                   Gräf                           epitaph         NaN   \n",
       "62151                Feraudi                           epitaph        3 cm   \n",
       "...                      ...                               ...         ...   \n",
       "24124                   Gräf                           epitaph         NaN   \n",
       "31987            Scheithauer                               NaN         NaN   \n",
       "63011                Feraudi                           epitaph         NaN   \n",
       "40071                 Garcia                votive inscription         NaN   \n",
       "55058                   Gräf                           epitaph  6.2-6.5 cm   \n",
       "\n",
       "      not_after                                         literature  \\\n",
       "46483      0200  AE 2001, 1283.; R.S.O. Tomlin - M.W.C. Hassall...   \n",
       "48745      0270                                     IDR 3, 4, 111.   \n",
       "19190       NaN                                     AE 1955, 0142.   \n",
       "43046      0200                        CIL 03, 08239.; ILJug 1446.   \n",
       "62151      0400  CIL 03, 08843; Zeichnung.; E. Marin u. a., Sal...   \n",
       "...         ...                                                ...   \n",
       "24124      0100       CIL 02 (2. Aufl.) 14, 00106.; CIL 02, 03658.   \n",
       "31987       NaN                                     AE 1901, 0002.   \n",
       "63011      0150  CIL 03, 02096; Zeichnung.; CIL 03, 02096 add. ...   \n",
       "40071      0250     ILB (2. Aufl.) 045; Zeichnung.; CIL 13, 03613.   \n",
       "55058      0300  CIL 03, 12757.; K. Patsch, AEM 16, 1893, 78, N...   \n",
       "\n",
       "                work_status     height  \\\n",
       "46483    checked with photo   (9.7) cm   \n",
       "48745              no image        NaN   \n",
       "19190           provisional        NaN   \n",
       "43046              no image        NaN   \n",
       "62151    checked with photo  (15.5) cm   \n",
       "...                     ...        ...   \n",
       "24124              no image        NaN   \n",
       "31987           provisional        NaN   \n",
       "63011    checked with photo        NaN   \n",
       "40071  checked with drawing        NaN   \n",
       "55058  checked with drawing  (21.5) cm   \n",
       "\n",
       "                                         diplomatic_text  \\\n",
       "46483                                        ]C[ / / ]A[   \n",
       "48745                           D [ ] / VAL V[ ] / AEL [   \n",
       "19190  MATRI DEVM / AVG SAC / [ ] GRATTIVS MVSTIO / L...   \n",
       "43046  D M / NANEA PRVD / ENTIS FILIA / POSVIT CO / N...   \n",
       "62151            ]ONAR C[ ] / [ ] ALEXAND[ ] / [ ]T AN I   \n",
       "...                                                  ...   \n",
       "24124  L FABIVS PRO / CVLVS AN LX / VITORIA OMVL / LI...   \n",
       "31987  IMP CAESARI L SEPTIMIO SEVE / RO PIO RT AVG ET...   \n",
       "63011  P FVNDANIVS PHILOLOGVS / AVGVSTAL T F I SIB ET...   \n",
       "40071  IN H D D / D I M AX[ ] / VERVS [ ] / Q VETI[ ]...   \n",
       "55058       ] / [ ] SEVE[ ] / [ ]IVGI [ ] / [ ]MO[ ] / [   \n",
       "\n",
       "                                                  people     depth  ...  \\\n",
       "46483                                                 {}  (4.1) cm  ...   \n",
       "48745  [{'nomen': 'Valerius/a*', 'person_id': '1', 'n...       NaN  ...   \n",
       "19190                                                 {}       NaN  ...   \n",
       "43046  [{'name': 'Nanea Prudentis filia', 'cognomen':...       NaN  ...   \n",
       "62151  [{'person_id': '1', 'age: years': '1', 'nomen'...     11 cm  ...   \n",
       "...                                                  ...       ...  ...   \n",
       "24124  [{'praenomen': 'L.', 'name': 'L. Fabius Procul...       NaN  ...   \n",
       "31987                                                 {}       NaN  ...   \n",
       "63011  [{'cognomen': 'Philologus', 'status': 'Augusta...       NaN  ...   \n",
       "40071  [{'name': 'Ax[ius?] Verus', 'nomen': 'Axius+?'...       NaN  ...   \n",
       "55058  [{'person_id': '1', 'nomen': '[---]', 'name': ...     24 cm  ...   \n",
       "\n",
       "                                 clean_text_conservative  \\\n",
       "46483                                                 CA   \n",
       "48745                                        D Val V Ael   \n",
       "19190  Matri Deum Aug sac Grattius Mustiolus aed II v...   \n",
       "43046  D M Nanea Prudentis filia posuit coniugi suo c...   \n",
       "62151                              ONAR C Alexand t an I   \n",
       "...                                                  ...   \n",
       "24124  L Fabius Proculus an LX Vitoria Omullina an XX...   \n",
       "31987  Imp Caesari L Septimio Severo Pio rt Aug et Im...   \n",
       "63011  P Fundanius Philologus Augustal t f i sib et F...   \n",
       "40071  In h d d D I M Ax Verus Q Veti et Probinus Ver...   \n",
       "55058                                       Seve iugi MO   \n",
       "\n",
       "                            clean_text_interpretive_word  \\\n",
       "46483                                                C A   \n",
       "48745                      Dis Manibus Valerius V Aelius   \n",
       "19190  Matri Deum Augustae sacrum Grattius Mustiolus ...   \n",
       "43046  Dis Manibus Nanea Prudentis filia posuit coniu...   \n",
       "62151                       ONAR C Alexand vixit annum I   \n",
       "...                                                  ...   \n",
       "24124  Lucius Fabius Proculus annorum LX Vitoria Omul...   \n",
       "31987  Imperatori Caesari Lucio Septimio Severo Pio P...   \n",
       "63011  Publius Fundanius Philologus Augustalis titulu...   \n",
       "40071  In honorem domus divinae Deo Invicto Mithrae A...   \n",
       "55058                                   Sever coniugi MO   \n",
       "\n",
       "                        clean_text_interpretive_sentence  \\\n",
       "46483                                                C A   \n",
       "48745                      Dis Manibus Valerius V Aelius   \n",
       "19190  Matri Deum Augustae sacrum Grattius Mustiolus ...   \n",
       "43046  Dis Manibus Nanea Prudentis filia posuit coniu...   \n",
       "62151                       ONAR C Alexand vixit annum I   \n",
       "...                                                  ...   \n",
       "24124  Lucius Fabius Proculus annorum LX Vitoria Omul...   \n",
       "31987  Imperatori Caesari Lucio Septimio Severo Pio P...   \n",
       "63011  Publius Fundanius Philologus Augustalis titulu...   \n",
       "40071  In honorem domus divinae Deo Invicto Mithrae A...   \n",
       "55058                                   Sever coniugi MO   \n",
       "\n",
       "                                                findspot year_of_find  \\\n",
       "46483                          Römisch-keltischer Tempel  before 1986   \n",
       "48745  Sântămărie, ehemalige reformierte Kirche, seku...          NaN   \n",
       "19190                                                NaN          NaN   \n",
       "43046  Xërxë / Zrze, bei, Ura e Shenjtë / Švanjskog M...          NaN   \n",
       "62151                          1-279 etc. bleibend (111)         1886   \n",
       "...                                                  ...          ...   \n",
       "24124                                                NaN          NaN   \n",
       "31987                                                NaN          NaN   \n",
       "63011                          1-279 etc. bleibend (111)          NaN   \n",
       "40071                                                NaN          NaN   \n",
       "55058  Makljenovac, Crkvina, römische Befestigung, Vo...         1890   \n",
       "\n",
       "          present_location                religion geography  \\\n",
       "46483       Harlow, Museum                     NaN       NaN   \n",
       "48745                  NaN                     NaN       NaN   \n",
       "19190                  NaN                     NaN       NaN   \n",
       "43046                  NaN                     NaN       NaN   \n",
       "62151     Split, Arh. Muz.                     NaN       NaN   \n",
       "...                    ...                     ...       ...   \n",
       "24124                 lost                     NaN       NaN   \n",
       "31987                  NaN                     NaN       NaN   \n",
       "63011                  NaN                     NaN       NaN   \n",
       "40071                 lost  names of pagan deities       NaN   \n",
       "55058  Sarajevo, Zem. Muz.                     NaN       NaN   \n",
       "\n",
       "      social_economic_legal_history        military  \n",
       "46483                           NaN             NaN  \n",
       "48745                           NaN             NaN  \n",
       "19190                           NaN             NaN  \n",
       "43046                           NaN  data available  \n",
       "62151                           NaN             NaN  \n",
       "...                             ...             ...  \n",
       "24124                           NaN             NaN  \n",
       "31987                           NaN             NaN  \n",
       "63011                data available             NaN  \n",
       "40071                           NaN             NaN  \n",
       "55058                           NaN             NaN  \n",
       "\n",
       "[1000 rows x 74 columns]"
      ]
     },
     "execution_count": 41,
     "metadata": {},
     "output_type": "execute_result"
    }
   ],
   "source": [
    "# Creating random sample with 1000 records\n",
    "\n",
    "sample = EDH.sample(n=1000)\n",
    "sample\n"
   ]
  },
  {
   "cell_type": "code",
   "execution_count": 42,
   "metadata": {},
   "outputs": [],
   "source": [
    "sample.to_json(r'EDH_random_sample_1000.json')"
   ]
  },
  {
   "cell_type": "markdown",
   "metadata": {},
   "source": [
    "## Run NLP pipeline with NLP()"
   ]
  },
  {
   "cell_type": "code",
   "execution_count": 33,
   "metadata": {},
   "outputs": [
    {
     "name": "stdout",
     "output_type": "stream",
     "text": [
      "‎𐤀 CLTK version '1.0.17'.\n",
      "Pipeline for language 'Latin' (ISO: 'lat'): `LatinNormalizeProcess`, `LatinStanzaProcess`, `LatinEmbeddingsProcess`, `StopsProcess`, `LatinNERProcess`, `LatinLexiconProcess`.\n"
     ]
    }
   ],
   "source": [
    "cltk_nlp = NLP(language=\"lat\")"
   ]
  },
  {
   "cell_type": "markdown",
   "metadata": {},
   "source": [
    "### Test on one inscription"
   ]
  },
  {
   "cell_type": "code",
   "execution_count": 84,
   "metadata": {},
   "outputs": [],
   "source": [
    "test = \"Matri Deum Augustae sacrum Grattius Mustiolus\""
   ]
  },
  {
   "cell_type": "code",
   "execution_count": 85,
   "metadata": {},
   "outputs": [
    {
     "data": {
      "text/plain": [
       "45"
      ]
     },
     "execution_count": 85,
     "metadata": {},
     "output_type": "execute_result"
    }
   ],
   "source": [
    "# characters\n",
    "len(test)"
   ]
  },
  {
   "cell_type": "code",
   "execution_count": 87,
   "metadata": {},
   "outputs": [
    {
     "data": {
      "text/plain": [
       "6"
      ]
     },
     "execution_count": 87,
     "metadata": {},
     "output_type": "execute_result"
    }
   ],
   "source": [
    "# words\n",
    "len(test.split())"
   ]
  },
  {
   "cell_type": "code",
   "execution_count": 89,
   "metadata": {},
   "outputs": [
    {
     "name": "stdout",
     "output_type": "stream",
     "text": [
      "CPU times: user 5 µs, sys: 2 µs, total: 7 µs\n",
      "Wall time: 30 µs\n",
      "CLTK message: This part of the CLTK depends upon the Stanza NLP library.\n",
      "CLTK message: Allow download of Stanza models to ``/home/ucloud/stanza_resources/la/tokenize/ittb.pt``? [Y/n] \n",
      "y\n"
     ]
    },
    {
     "name": "stderr",
     "output_type": "stream",
     "text": [
      "Downloading https://raw.githubusercontent.com/stanfordnlp/stanza-resources/master/resources_1.1.0.json: 122kB [00:00, 30.3MB/s]                    \n",
      "2021-07-20 15:06:56 INFO: Downloading these customized packages for language: la (Latin)...\n",
      "=======================\n",
      "| Processor | Package |\n",
      "-----------------------\n",
      "| tokenize  | ittb    |\n",
      "| pos       | ittb    |\n",
      "| lemma     | ittb    |\n",
      "| depparse  | ittb    |\n",
      "| pretrain  | ittb    |\n",
      "=======================\n",
      "\n",
      "Downloading http://nlp.stanford.edu/software/stanza/1.1.0/la/tokenize/ittb.pt: 100%|██████████| 621k/621k [00:00<00:00, 793kB/s]\n",
      "Downloading http://nlp.stanford.edu/software/stanza/1.1.0/la/pos/ittb.pt: 100%|██████████| 21.6M/21.6M [00:02<00:00, 10.4MB/s]\n",
      "Downloading http://nlp.stanford.edu/software/stanza/1.1.0/la/lemma/ittb.pt: 100%|██████████| 2.96M/2.96M [00:01<00:00, 2.69MB/s]\n",
      "Downloading http://nlp.stanford.edu/software/stanza/1.1.0/la/depparse/ittb.pt: 100%|██████████| 104M/104M [00:17<00:00, 6.07MB/s] \n",
      "Downloading http://nlp.stanford.edu/software/stanza/1.1.0/la/pretrain/ittb.pt: 100%|██████████| 157M/157M [00:27<00:00, 5.71MB/s] \n",
      "2021-07-20 15:07:55 INFO: Finished downloading models and saved to /home/ucloud/stanza_resources.\n"
     ]
    },
    {
     "name": "stdout",
     "output_type": "stream",
     "text": [
      "CLTK message: This part of the CLTK depends upon word embedding models from the Fasttext project.\n",
      "Do you want to download file 'https://dl.fbaipublicfiles.com/fasttext/vectors-wiki/wiki.la.vec' to '/home/ucloud/cltk_data/lat/embeddings/fasttext/wiki.la.vec'? [Y/n] \n",
      "y\n"
     ]
    },
    {
     "name": "stderr",
     "output_type": "stream",
     "text": [
      "100%|██████████| 364M/364M [00:28<00:00, 12.6MiB/s]    \n"
     ]
    },
    {
     "name": "stdout",
     "output_type": "stream",
     "text": [
      "This part of the CLTK depends upon models from the CLTK project.\n",
      "Do you want to download 'https://github.com/cltk/lat_models_cltk' to '~/cltk_data/lat'? [Y/n] \n",
      " y\n",
      "Please respond with 'yes' or 'no' (or 'y' or 'n').\n",
      "Do you want to download 'https://github.com/cltk/lat_models_cltk' to '~/cltk_data/lat'? [Y/n] \n",
      "y\n",
      "This part of the CLTK depends upon Lewis's *An Elementary Latin Dictionary* (1890).\n",
      "Do you want to download this? [Y/n] \n",
      "y\n"
     ]
    }
   ],
   "source": [
    "%time\n",
    "cltk_doc = cltk_nlp.analyze(text=test)"
   ]
  },
  {
   "cell_type": "code",
   "execution_count": 91,
   "metadata": {},
   "outputs": [
    {
     "name": "stdout",
     "output_type": "stream",
     "text": [
      "<class 'cltk.core.data_types.Doc'>\n",
      "['_get_words_attribute', 'embeddings', 'embeddings_model', 'language', 'lemmata', 'morphosyntactic_features', 'normalized_text', 'pipeline', 'pos', 'raw', 'sentence_embeddings', 'sentences', 'sentences_strings', 'sentences_tokens', 'stanza_doc', 'stems', 'tokens', 'tokens_stops_filtered', 'words']\n"
     ]
    }
   ],
   "source": [
    "# We can now inspect the result\n",
    "print(type(cltk_doc))\n",
    "# All accessors\n",
    "print([x for x in dir(cltk_doc) if not x.startswith(\"__\")])"
   ]
  },
  {
   "cell_type": "code",
   "execution_count": 103,
   "metadata": {},
   "outputs": [
    {
     "name": "stdout",
     "output_type": "stream",
     "text": [
      "Matri Deum Augustae sacrum Grattius Mustiolus\n",
      "['Matri', 'Deum', 'Augustae', 'sacrum', 'Grattius', 'Mustiolus']\n"
     ]
    }
   ],
   "source": [
    "# Several of the more useful, compared with the original\n",
    "print(cltk_doc.raw)\n",
    "\n",
    "# List of tokens\n",
    "print(cltk_doc.tokens[:20])"
   ]
  },
  {
   "cell_type": "code",
   "execution_count": 93,
   "metadata": {},
   "outputs": [
    {
     "name": "stdout",
     "output_type": "stream",
     "text": [
      "['mater', 'meus', 'mugusta', 'sacer', 'mraeter', 'Mustiolus']\n"
     ]
    }
   ],
   "source": [
    "# List of lemmas\n",
    "print(cltk_doc.lemmata[:20])"
   ]
  },
  {
   "cell_type": "code",
   "execution_count": 94,
   "metadata": {},
   "outputs": [
    {
     "name": "stdout",
     "output_type": "stream",
     "text": [
      "['NOUN', 'PROPN', 'PROPN', 'NOUN', 'VERB', 'NOUN']\n"
     ]
    }
   ],
   "source": [
    "# Basic part-of-speech info\n",
    "print(cltk_doc.pos[:20])"
   ]
  },
  {
   "cell_type": "code",
   "execution_count": 104,
   "metadata": {},
   "outputs": [
    {
     "name": "stdout",
     "output_type": "stream",
     "text": [
      "[{Case: [dative], Degree: [positive], Gender: [feminine], Number: [singular]}, {Case: [accusative], Degree: [positive], Gender: [masculine], Number: [singular]}, {Case: [genitive], Degree: [positive], Gender: [masculine], Number: [singular]}, {Case: [accusative], Degree: [positive], Gender: [neuter], Number: [singular]}, {Aspect: [perfective], Case: [nominative], Degree: [positive], Gender: [masculine], Number: [singular], Tense: [past], VerbForm: [participle], Voice: [passive]}, {Case: [nominative], Degree: [positive], Gender: [masculine], Number: [singular]}]\n"
     ]
    }
   ],
   "source": [
    "print(cltk_doc.morphosyntactic_features)"
   ]
  },
  {
   "cell_type": "code",
   "execution_count": 106,
   "metadata": {},
   "outputs": [
    {
     "name": "stdout",
     "output_type": "stream",
     "text": [
      "None\n"
     ]
    }
   ],
   "source": []
  },
  {
   "cell_type": "code",
   "execution_count": null,
   "metadata": {},
   "outputs": [],
   "source": []
  },
  {
   "cell_type": "code",
   "execution_count": null,
   "metadata": {},
   "outputs": [],
   "source": []
  },
  {
   "cell_type": "markdown",
   "metadata": {},
   "source": [
    "### Testing with multiple inscriptions"
   ]
  },
  {
   "cell_type": "code",
   "execution_count": 133,
   "metadata": {},
   "outputs": [
    {
     "data": {
      "text/plain": [
       "46483                                                  C A\n",
       "48745                        Dis Manibus Valerius V Aelius\n",
       "19190    Matri Deum Augustae sacrum Grattius Mustiolus ...\n",
       "43046    Dis Manibus Nanea Prudentis filia posuit coniu...\n",
       "62151                         ONAR C Alexand vixit annum I\n",
       "                               ...                        \n",
       "24124    Lucius Fabius Proculus annorum LX Vitoria Omul...\n",
       "31987    Imperatori Caesari Lucio Septimio Severo Pio P...\n",
       "63011    Publius Fundanius Philologus Augustalis titulu...\n",
       "40071    In honorem domus divinae Deo Invicto Mithrae A...\n",
       "55058                                     Sever coniugi MO\n",
       "Name: clean_text_interpretive_word, Length: 1000, dtype: object"
      ]
     },
     "execution_count": 133,
     "metadata": {},
     "output_type": "execute_result"
    }
   ],
   "source": [
    "inscriptions = sample[\"clean_text_interpretive_word\"]\n",
    "inscriptions"
   ]
  },
  {
   "cell_type": "code",
   "execution_count": 134,
   "metadata": {},
   "outputs": [],
   "source": [
    "inscriptions = pd.DataFrame(inscriptions)"
   ]
  },
  {
   "cell_type": "code",
   "execution_count": 123,
   "metadata": {},
   "outputs": [
    {
     "data": {
      "text/html": [
       "<div>\n",
       "<style scoped>\n",
       "    .dataframe tbody tr th:only-of-type {\n",
       "        vertical-align: middle;\n",
       "    }\n",
       "\n",
       "    .dataframe tbody tr th {\n",
       "        vertical-align: top;\n",
       "    }\n",
       "\n",
       "    .dataframe thead th {\n",
       "        text-align: right;\n",
       "    }\n",
       "</style>\n",
       "<table border=\"1\" class=\"dataframe\">\n",
       "  <thead>\n",
       "    <tr style=\"text-align: right;\">\n",
       "      <th></th>\n",
       "      <th>clean_text_interpretive_word</th>\n",
       "      <th>tokenized</th>\n",
       "    </tr>\n",
       "  </thead>\n",
       "  <tbody>\n",
       "    <tr>\n",
       "      <th>46483</th>\n",
       "      <td>C A</td>\n",
       "      <td>[C, A]</td>\n",
       "    </tr>\n",
       "    <tr>\n",
       "      <th>48745</th>\n",
       "      <td>Dis Manibus Valerius V Aelius</td>\n",
       "      <td>[Dis, Manibus, Valerius, V, Aelius]</td>\n",
       "    </tr>\n",
       "    <tr>\n",
       "      <th>19190</th>\n",
       "      <td>Matri Deum Augustae sacrum Grattius Mustiolus ...</td>\n",
       "      <td>[Matri, Deum, Augustae, sacrum, Grattius, Must...</td>\n",
       "    </tr>\n",
       "    <tr>\n",
       "      <th>43046</th>\n",
       "      <td>Dis Manibus Nanea Prudentis filia posuit coniu...</td>\n",
       "      <td>[Dis, Manibus, Nanea, Prudentis, filia, posuit...</td>\n",
       "    </tr>\n",
       "    <tr>\n",
       "      <th>62151</th>\n",
       "      <td>ONAR C Alexand vixit annum I</td>\n",
       "      <td>[ONAR, C, Alexand, vixit, annum, I]</td>\n",
       "    </tr>\n",
       "    <tr>\n",
       "      <th>...</th>\n",
       "      <td>...</td>\n",
       "      <td>...</td>\n",
       "    </tr>\n",
       "    <tr>\n",
       "      <th>24124</th>\n",
       "      <td>Lucius Fabius Proculus annorum LX Vitoria Omul...</td>\n",
       "      <td>[Lucius, Fabius, Proculus, annorum, LX, Vitori...</td>\n",
       "    </tr>\n",
       "    <tr>\n",
       "      <th>31987</th>\n",
       "      <td>Imperatori Caesari Lucio Septimio Severo Pio P...</td>\n",
       "      <td>[Imperatori, Caesari, Lucio, Septimio, Severo,...</td>\n",
       "    </tr>\n",
       "    <tr>\n",
       "      <th>63011</th>\n",
       "      <td>Publius Fundanius Philologus Augustalis titulu...</td>\n",
       "      <td>[Publius, Fundanius, Philologus, Augustalis, t...</td>\n",
       "    </tr>\n",
       "    <tr>\n",
       "      <th>40071</th>\n",
       "      <td>In honorem domus divinae Deo Invicto Mithrae A...</td>\n",
       "      <td>[In, honorem, domus, divinae, Deo, Invicto, Mi...</td>\n",
       "    </tr>\n",
       "    <tr>\n",
       "      <th>55058</th>\n",
       "      <td>Sever coniugi MO</td>\n",
       "      <td>[Sever, coniugi, MO]</td>\n",
       "    </tr>\n",
       "  </tbody>\n",
       "</table>\n",
       "<p>1000 rows × 2 columns</p>\n",
       "</div>"
      ],
      "text/plain": [
       "                            clean_text_interpretive_word  \\\n",
       "46483                                                C A   \n",
       "48745                      Dis Manibus Valerius V Aelius   \n",
       "19190  Matri Deum Augustae sacrum Grattius Mustiolus ...   \n",
       "43046  Dis Manibus Nanea Prudentis filia posuit coniu...   \n",
       "62151                       ONAR C Alexand vixit annum I   \n",
       "...                                                  ...   \n",
       "24124  Lucius Fabius Proculus annorum LX Vitoria Omul...   \n",
       "31987  Imperatori Caesari Lucio Septimio Severo Pio P...   \n",
       "63011  Publius Fundanius Philologus Augustalis titulu...   \n",
       "40071  In honorem domus divinae Deo Invicto Mithrae A...   \n",
       "55058                                   Sever coniugi MO   \n",
       "\n",
       "                                               tokenized  \n",
       "46483                                             [C, A]  \n",
       "48745                [Dis, Manibus, Valerius, V, Aelius]  \n",
       "19190  [Matri, Deum, Augustae, sacrum, Grattius, Must...  \n",
       "43046  [Dis, Manibus, Nanea, Prudentis, filia, posuit...  \n",
       "62151                [ONAR, C, Alexand, vixit, annum, I]  \n",
       "...                                                  ...  \n",
       "24124  [Lucius, Fabius, Proculus, annorum, LX, Vitori...  \n",
       "31987  [Imperatori, Caesari, Lucio, Septimio, Severo,...  \n",
       "63011  [Publius, Fundanius, Philologus, Augustalis, t...  \n",
       "40071  [In, honorem, domus, divinae, Deo, Invicto, Mi...  \n",
       "55058                               [Sever, coniugi, MO]  \n",
       "\n",
       "[1000 rows x 2 columns]"
      ]
     },
     "execution_count": 123,
     "metadata": {},
     "output_type": "execute_result"
    }
   ],
   "source": [
    "inscriptions"
   ]
  },
  {
   "cell_type": "code",
   "execution_count": 127,
   "metadata": {},
   "outputs": [
    {
     "name": "stdout",
     "output_type": "stream",
     "text": [
      "CPU times: user 6 µs, sys: 1 µs, total: 7 µs\n",
      "Wall time: 14.1 µs\n"
     ]
    }
   ],
   "source": [
    "\n",
    "\n",
    "%time \n",
    "\n",
    "cltk_ins = cltk_nlp.analyze(text=str(inscriptions['clean_text_interpretive_word']))"
   ]
  },
  {
   "cell_type": "markdown",
   "metadata": {},
   "source": [
    "!!!!! NOTE: I need to find a way how to lemmatize the text in dataframe, using the CLTK."
   ]
  },
  {
   "cell_type": "code",
   "execution_count": 129,
   "metadata": {},
   "outputs": [
    {
     "name": "stdout",
     "output_type": "stream",
     "text": [
      "<class 'cltk.core.data_types.Doc'>\n",
      "['_get_words_attribute', 'embeddings', 'embeddings_model', 'language', 'lemmata', 'morphosyntactic_features', 'normalized_text', 'pipeline', 'pos', 'raw', 'sentence_embeddings', 'sentences', 'sentences_strings', 'sentences_tokens', 'stanza_doc', 'stems', 'tokens', 'tokens_stops_filtered', 'words']\n"
     ]
    }
   ],
   "source": [
    "print(type(cltk_ins))\n",
    "print([x for x in dir(cltk_ins) if not x.startswith(\"__\")])\n"
   ]
  },
  {
   "cell_type": "code",
   "execution_count": 130,
   "metadata": {},
   "outputs": [
    {
     "name": "stdout",
     "output_type": "stream",
     "text": [
      "['46483', 'C', 'A', '48745', 'Dis', 'Manibus', 'Valerius', 'V', 'Aelius', '19190', 'Matri', 'Deum', 'Augustae', 'sacrum', 'Grattius', 'Mustiolus', '.', '..', '43046', 'Dis']\n",
      "['num._arab.', 'num._rom.', 'ex', 'num._arab.', 'Dis', 'manus', 'Valerius', 'num._rom.', 'melius', 'num._arab.', 'mater', 'meus', 'mugusta', 'sacer', 'mraeter', 'Mustiolus', '.', '..', 'num._arab.', 'Dis']\n",
      "['NUM', 'NUM', 'ADP', 'NUM', 'NOUN', 'NOUN', 'PROPN', 'NUM', 'PROPN', 'NUM', 'NOUN', 'PROPN', 'PROPN', 'ADJ', 'VERB', 'NOUN', 'PUNCT', 'NOUN', 'NUM', 'NOUN']\n"
     ]
    }
   ],
   "source": [
    "print(cltk_ins.tokens[:20])\n",
    "print(cltk_ins.lemmata[:20])\n",
    "print(cltk_ins.pos[:20])"
   ]
  },
  {
   "cell_type": "markdown",
   "metadata": {},
   "source": [
    "## NLTK"
   ]
  },
  {
   "cell_type": "code",
   "execution_count": 18,
   "metadata": {},
   "outputs": [
    {
     "name": "stdout",
     "output_type": "stream",
     "text": [
      "Requirement already satisfied: nltk in /opt/conda/lib/python3.7/site-packages (3.6.2)\r\n",
      "Requirement already satisfied: regex in /opt/conda/lib/python3.7/site-packages (from nltk) (2020.7.14)\r\n",
      "Requirement already satisfied: joblib in /opt/conda/lib/python3.7/site-packages (from nltk) (0.16.0)\r\n",
      "Requirement already satisfied: tqdm in /opt/conda/lib/python3.7/site-packages (from nltk) (4.48.2)\r\n",
      "Requirement already satisfied: click in /opt/conda/lib/python3.7/site-packages (from nltk) (7.1.2)\r\n"
     ]
    }
   ],
   "source": [
    "!pip install nltk"
   ]
  },
  {
   "cell_type": "code",
   "execution_count": 78,
   "metadata": {},
   "outputs": [
    {
     "name": "stderr",
     "output_type": "stream",
     "text": [
      "[nltk_data] Downloading package punkt to /home/ucloud/nltk_data...\n",
      "[nltk_data]   Package punkt is already up-to-date!\n"
     ]
    }
   ],
   "source": [
    "import nltk\n",
    "nltk.download('punkt')\n",
    "from nltk.tokenize import word_tokenize"
   ]
  },
  {
   "cell_type": "markdown",
   "metadata": {},
   "source": [
    "### One inscription"
   ]
  },
  {
   "cell_type": "code",
   "execution_count": 81,
   "metadata": {},
   "outputs": [
    {
     "name": "stdout",
     "output_type": "stream",
     "text": [
      "['Dis', 'Manibus', 'Valerius', 'V', 'Aelius']\n"
     ]
    }
   ],
   "source": [
    "sample_text = \"Dis Manibus Valerius V Aelius\"\n",
    "word_list = nltk.word_tokenize(sample_text)\n",
    "print(word_list)"
   ]
  },
  {
   "cell_type": "code",
   "execution_count": 82,
   "metadata": {},
   "outputs": [
    {
     "name": "stdout",
     "output_type": "stream",
     "text": [
      "Dis Manibus Valerius V Aelius\n"
     ]
    }
   ],
   "source": [
    "  \n",
    "lemmatized_output = ' '.join([lemmatizer.lemmatize(w) for w in word_list])\n",
    "print(lemmatized_output)"
   ]
  },
  {
   "cell_type": "markdown",
   "metadata": {},
   "source": [
    "### Multiple inscriptions"
   ]
  },
  {
   "cell_type": "markdown",
   "metadata": {},
   "source": [
    "#### Tokenization"
   ]
  },
  {
   "cell_type": "code",
   "execution_count": 135,
   "metadata": {},
   "outputs": [],
   "source": [
    "inscriptions[\"tokenized\"] = inscriptions.apply(lambda row: nltk.word_tokenize(row['clean_text_interpretive_word']), axis=1)"
   ]
  },
  {
   "cell_type": "code",
   "execution_count": 136,
   "metadata": {},
   "outputs": [
    {
     "data": {
      "text/html": [
       "<div>\n",
       "<style scoped>\n",
       "    .dataframe tbody tr th:only-of-type {\n",
       "        vertical-align: middle;\n",
       "    }\n",
       "\n",
       "    .dataframe tbody tr th {\n",
       "        vertical-align: top;\n",
       "    }\n",
       "\n",
       "    .dataframe thead th {\n",
       "        text-align: right;\n",
       "    }\n",
       "</style>\n",
       "<table border=\"1\" class=\"dataframe\">\n",
       "  <thead>\n",
       "    <tr style=\"text-align: right;\">\n",
       "      <th></th>\n",
       "      <th>clean_text_interpretive_word</th>\n",
       "      <th>tokenized</th>\n",
       "    </tr>\n",
       "  </thead>\n",
       "  <tbody>\n",
       "    <tr>\n",
       "      <th>46483</th>\n",
       "      <td>C A</td>\n",
       "      <td>[C, A]</td>\n",
       "    </tr>\n",
       "    <tr>\n",
       "      <th>48745</th>\n",
       "      <td>Dis Manibus Valerius V Aelius</td>\n",
       "      <td>[Dis, Manibus, Valerius, V, Aelius]</td>\n",
       "    </tr>\n",
       "    <tr>\n",
       "      <th>19190</th>\n",
       "      <td>Matri Deum Augustae sacrum Grattius Mustiolus ...</td>\n",
       "      <td>[Matri, Deum, Augustae, sacrum, Grattius, Must...</td>\n",
       "    </tr>\n",
       "    <tr>\n",
       "      <th>43046</th>\n",
       "      <td>Dis Manibus Nanea Prudentis filia posuit coniu...</td>\n",
       "      <td>[Dis, Manibus, Nanea, Prudentis, filia, posuit...</td>\n",
       "    </tr>\n",
       "    <tr>\n",
       "      <th>62151</th>\n",
       "      <td>ONAR C Alexand vixit annum I</td>\n",
       "      <td>[ONAR, C, Alexand, vixit, annum, I]</td>\n",
       "    </tr>\n",
       "    <tr>\n",
       "      <th>...</th>\n",
       "      <td>...</td>\n",
       "      <td>...</td>\n",
       "    </tr>\n",
       "    <tr>\n",
       "      <th>24124</th>\n",
       "      <td>Lucius Fabius Proculus annorum LX Vitoria Omul...</td>\n",
       "      <td>[Lucius, Fabius, Proculus, annorum, LX, Vitori...</td>\n",
       "    </tr>\n",
       "    <tr>\n",
       "      <th>31987</th>\n",
       "      <td>Imperatori Caesari Lucio Septimio Severo Pio P...</td>\n",
       "      <td>[Imperatori, Caesari, Lucio, Septimio, Severo,...</td>\n",
       "    </tr>\n",
       "    <tr>\n",
       "      <th>63011</th>\n",
       "      <td>Publius Fundanius Philologus Augustalis titulu...</td>\n",
       "      <td>[Publius, Fundanius, Philologus, Augustalis, t...</td>\n",
       "    </tr>\n",
       "    <tr>\n",
       "      <th>40071</th>\n",
       "      <td>In honorem domus divinae Deo Invicto Mithrae A...</td>\n",
       "      <td>[In, honorem, domus, divinae, Deo, Invicto, Mi...</td>\n",
       "    </tr>\n",
       "    <tr>\n",
       "      <th>55058</th>\n",
       "      <td>Sever coniugi MO</td>\n",
       "      <td>[Sever, coniugi, MO]</td>\n",
       "    </tr>\n",
       "  </tbody>\n",
       "</table>\n",
       "<p>1000 rows × 2 columns</p>\n",
       "</div>"
      ],
      "text/plain": [
       "                            clean_text_interpretive_word  \\\n",
       "46483                                                C A   \n",
       "48745                      Dis Manibus Valerius V Aelius   \n",
       "19190  Matri Deum Augustae sacrum Grattius Mustiolus ...   \n",
       "43046  Dis Manibus Nanea Prudentis filia posuit coniu...   \n",
       "62151                       ONAR C Alexand vixit annum I   \n",
       "...                                                  ...   \n",
       "24124  Lucius Fabius Proculus annorum LX Vitoria Omul...   \n",
       "31987  Imperatori Caesari Lucio Septimio Severo Pio P...   \n",
       "63011  Publius Fundanius Philologus Augustalis titulu...   \n",
       "40071  In honorem domus divinae Deo Invicto Mithrae A...   \n",
       "55058                                   Sever coniugi MO   \n",
       "\n",
       "                                               tokenized  \n",
       "46483                                             [C, A]  \n",
       "48745                [Dis, Manibus, Valerius, V, Aelius]  \n",
       "19190  [Matri, Deum, Augustae, sacrum, Grattius, Must...  \n",
       "43046  [Dis, Manibus, Nanea, Prudentis, filia, posuit...  \n",
       "62151                [ONAR, C, Alexand, vixit, annum, I]  \n",
       "...                                                  ...  \n",
       "24124  [Lucius, Fabius, Proculus, annorum, LX, Vitori...  \n",
       "31987  [Imperatori, Caesari, Lucio, Septimio, Severo,...  \n",
       "63011  [Publius, Fundanius, Philologus, Augustalis, t...  \n",
       "40071  [In, honorem, domus, divinae, Deo, Invicto, Mi...  \n",
       "55058                               [Sever, coniugi, MO]  \n",
       "\n",
       "[1000 rows x 2 columns]"
      ]
     },
     "execution_count": 136,
     "metadata": {},
     "output_type": "execute_result"
    }
   ],
   "source": [
    "inscriptions"
   ]
  },
  {
   "cell_type": "markdown",
   "metadata": {},
   "source": [
    "#### Lemmatization"
   ]
  },
  {
   "cell_type": "code",
   "execution_count": 1,
   "metadata": {},
   "outputs": [],
   "source": [
    "# There is no NLTK model for Latin inscriptions, but I was testing with wordnet if it even words on dataframes"
   ]
  },
  {
   "cell_type": "code",
   "execution_count": 156,
   "metadata": {},
   "outputs": [
    {
     "name": "stderr",
     "output_type": "stream",
     "text": [
      "[nltk_data] Downloading package wordnet to /home/ucloud/nltk_data...\n",
      "[nltk_data]   Package wordnet is already up-to-date!\n"
     ]
    },
    {
     "data": {
      "text/html": [
       "<div>\n",
       "<style scoped>\n",
       "    .dataframe tbody tr th:only-of-type {\n",
       "        vertical-align: middle;\n",
       "    }\n",
       "\n",
       "    .dataframe tbody tr th {\n",
       "        vertical-align: top;\n",
       "    }\n",
       "\n",
       "    .dataframe thead th {\n",
       "        text-align: right;\n",
       "    }\n",
       "</style>\n",
       "<table border=\"1\" class=\"dataframe\">\n",
       "  <thead>\n",
       "    <tr style=\"text-align: right;\">\n",
       "      <th></th>\n",
       "      <th>clean_text_interpretive_word</th>\n",
       "      <th>tokenized</th>\n",
       "      <th>text_lemmatized</th>\n",
       "    </tr>\n",
       "  </thead>\n",
       "  <tbody>\n",
       "    <tr>\n",
       "      <th>46483</th>\n",
       "      <td>C A</td>\n",
       "      <td>[C, A]</td>\n",
       "      <td>[C, A]</td>\n",
       "    </tr>\n",
       "    <tr>\n",
       "      <th>48745</th>\n",
       "      <td>Dis Manibus Valerius V Aelius</td>\n",
       "      <td>[Dis, Manibus, Valerius, V, Aelius]</td>\n",
       "      <td>[Dis, Manibus, Valerius, V, Aelius]</td>\n",
       "    </tr>\n",
       "    <tr>\n",
       "      <th>19190</th>\n",
       "      <td>Matri Deum Augustae sacrum Grattius Mustiolus ...</td>\n",
       "      <td>[Matri, Deum, Augustae, sacrum, Grattius, Must...</td>\n",
       "      <td>[Matri, Deum, Augustae, sacrum, Grattius, Must...</td>\n",
       "    </tr>\n",
       "    <tr>\n",
       "      <th>43046</th>\n",
       "      <td>Dis Manibus Nanea Prudentis filia posuit coniu...</td>\n",
       "      <td>[Dis, Manibus, Nanea, Prudentis, filia, posuit...</td>\n",
       "      <td>[Dis, Manibus, Nanea, Prudentis, filia, posuit...</td>\n",
       "    </tr>\n",
       "    <tr>\n",
       "      <th>62151</th>\n",
       "      <td>ONAR C Alexand vixit annum I</td>\n",
       "      <td>[ONAR, C, Alexand, vixit, annum, I]</td>\n",
       "      <td>[ONAR, C, Alexand, vixit, annum, I]</td>\n",
       "    </tr>\n",
       "    <tr>\n",
       "      <th>...</th>\n",
       "      <td>...</td>\n",
       "      <td>...</td>\n",
       "      <td>...</td>\n",
       "    </tr>\n",
       "    <tr>\n",
       "      <th>24124</th>\n",
       "      <td>Lucius Fabius Proculus annorum LX Vitoria Omul...</td>\n",
       "      <td>[Lucius, Fabius, Proculus, annorum, LX, Vitori...</td>\n",
       "      <td>[Lucius, Fabius, Proculus, annorum, LX, Vitori...</td>\n",
       "    </tr>\n",
       "    <tr>\n",
       "      <th>31987</th>\n",
       "      <td>Imperatori Caesari Lucio Septimio Severo Pio P...</td>\n",
       "      <td>[Imperatori, Caesari, Lucio, Septimio, Severo,...</td>\n",
       "      <td>[Imperatori, Caesari, Lucio, Septimio, Severo,...</td>\n",
       "    </tr>\n",
       "    <tr>\n",
       "      <th>63011</th>\n",
       "      <td>Publius Fundanius Philologus Augustalis titulu...</td>\n",
       "      <td>[Publius, Fundanius, Philologus, Augustalis, t...</td>\n",
       "      <td>[Publius, Fundanius, Philologus, Augustalis, t...</td>\n",
       "    </tr>\n",
       "    <tr>\n",
       "      <th>40071</th>\n",
       "      <td>In honorem domus divinae Deo Invicto Mithrae A...</td>\n",
       "      <td>[In, honorem, domus, divinae, Deo, Invicto, Mi...</td>\n",
       "      <td>[In, honorem, domus, divinae, Deo, Invicto, Mi...</td>\n",
       "    </tr>\n",
       "    <tr>\n",
       "      <th>55058</th>\n",
       "      <td>Sever coniugi MO</td>\n",
       "      <td>[Sever, coniugi, MO]</td>\n",
       "      <td>[Sever, coniugi, MO]</td>\n",
       "    </tr>\n",
       "  </tbody>\n",
       "</table>\n",
       "<p>1000 rows × 3 columns</p>\n",
       "</div>"
      ],
      "text/plain": [
       "                            clean_text_interpretive_word  \\\n",
       "46483                                                C A   \n",
       "48745                      Dis Manibus Valerius V Aelius   \n",
       "19190  Matri Deum Augustae sacrum Grattius Mustiolus ...   \n",
       "43046  Dis Manibus Nanea Prudentis filia posuit coniu...   \n",
       "62151                       ONAR C Alexand vixit annum I   \n",
       "...                                                  ...   \n",
       "24124  Lucius Fabius Proculus annorum LX Vitoria Omul...   \n",
       "31987  Imperatori Caesari Lucio Septimio Severo Pio P...   \n",
       "63011  Publius Fundanius Philologus Augustalis titulu...   \n",
       "40071  In honorem domus divinae Deo Invicto Mithrae A...   \n",
       "55058                                   Sever coniugi MO   \n",
       "\n",
       "                                               tokenized  \\\n",
       "46483                                             [C, A]   \n",
       "48745                [Dis, Manibus, Valerius, V, Aelius]   \n",
       "19190  [Matri, Deum, Augustae, sacrum, Grattius, Must...   \n",
       "43046  [Dis, Manibus, Nanea, Prudentis, filia, posuit...   \n",
       "62151                [ONAR, C, Alexand, vixit, annum, I]   \n",
       "...                                                  ...   \n",
       "24124  [Lucius, Fabius, Proculus, annorum, LX, Vitori...   \n",
       "31987  [Imperatori, Caesari, Lucio, Septimio, Severo,...   \n",
       "63011  [Publius, Fundanius, Philologus, Augustalis, t...   \n",
       "40071  [In, honorem, domus, divinae, Deo, Invicto, Mi...   \n",
       "55058                               [Sever, coniugi, MO]   \n",
       "\n",
       "                                         text_lemmatized  \n",
       "46483                                             [C, A]  \n",
       "48745                [Dis, Manibus, Valerius, V, Aelius]  \n",
       "19190  [Matri, Deum, Augustae, sacrum, Grattius, Must...  \n",
       "43046  [Dis, Manibus, Nanea, Prudentis, filia, posuit...  \n",
       "62151                [ONAR, C, Alexand, vixit, annum, I]  \n",
       "...                                                  ...  \n",
       "24124  [Lucius, Fabius, Proculus, annorum, LX, Vitori...  \n",
       "31987  [Imperatori, Caesari, Lucio, Septimio, Severo,...  \n",
       "63011  [Publius, Fundanius, Philologus, Augustalis, t...  \n",
       "40071  [In, honorem, domus, divinae, Deo, Invicto, Mi...  \n",
       "55058                               [Sever, coniugi, MO]  \n",
       "\n",
       "[1000 rows x 3 columns]"
      ]
     },
     "execution_count": 156,
     "metadata": {},
     "output_type": "execute_result"
    }
   ],
   "source": [
    "import nltk\n",
    "nltk.download('wordnet')\n",
    "from nltk.stem import WordNetLemmatizer \n",
    "lemmatizer = WordNetLemmatizer()\n",
    "\n",
    "\n",
    "def lemmatize_text(text):\n",
    "    return [lemmatizer.lemmatize(w) for w in word_tokenize(text)]\n",
    "\n",
    "\n",
    "inscriptions['text_lemmatized'] = inscriptions.clean_text_interpretive_word.apply(lemmatize_text)\n",
    "inscriptions"
   ]
  },
  {
   "cell_type": "code",
   "execution_count": null,
   "metadata": {},
   "outputs": [],
   "source": []
  },
  {
   "cell_type": "code",
   "execution_count": null,
   "metadata": {},
   "outputs": [],
   "source": []
  },
  {
   "cell_type": "code",
   "execution_count": null,
   "metadata": {},
   "outputs": [],
   "source": []
  }
 ],
 "metadata": {
  "hide_input": false,
  "kernelspec": {
   "display_name": "Python 3",
   "language": "python",
   "name": "python3"
  },
  "language_info": {
   "codemirror_mode": {
    "name": "ipython",
    "version": 3
   },
   "file_extension": ".py",
   "mimetype": "text/x-python",
   "name": "python",
   "nbconvert_exporter": "python",
   "pygments_lexer": "ipython3",
   "version": "3.7.8"
  },
  "toc": {
   "base_numbering": 1,
   "nav_menu": {},
   "number_sections": true,
   "sideBar": true,
   "skip_h1_title": false,
   "title_cell": "Table of Contents",
   "title_sidebar": "Contents",
   "toc_cell": false,
   "toc_position": {},
   "toc_section_display": true,
   "toc_window_display": false
  },
  "varInspector": {
   "cols": {
    "lenName": 16,
    "lenType": 16,
    "lenVar": 40
   },
   "kernels_config": {
    "python": {
     "delete_cmd_postfix": "",
     "delete_cmd_prefix": "del ",
     "library": "var_list.py",
     "varRefreshCmd": "print(var_dic_list())"
    },
    "r": {
     "delete_cmd_postfix": ") ",
     "delete_cmd_prefix": "rm(",
     "library": "var_list.r",
     "varRefreshCmd": "cat(var_dic_list()) "
    }
   },
   "types_to_exclude": [
    "module",
    "function",
    "builtin_function_or_method",
    "instance",
    "_Feature"
   ],
   "window_display": false
  }
 },
 "nbformat": 4,
 "nbformat_minor": 4
}
